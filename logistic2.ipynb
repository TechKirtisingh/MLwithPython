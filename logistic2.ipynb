{
 "cells": [
  {
   "cell_type": "code",
   "execution_count": null,
   "id": "508f4efa",
   "metadata": {},
   "outputs": [],
   "source": [
    "# logistic regression\n",
    "\n"
   ]
  },
  {
   "cell_type": "code",
   "execution_count": 2,
   "id": "9068592e",
   "metadata": {},
   "outputs": [],
   "source": [
    "import numpy as np\n",
    "import pandas as pd\n",
    "import matplotlib.pyplot as plt\n",
    "import seaborn as sns\n",
    "color = sns.color_palette()\n",
    "import sklearn.metrics as metrics\n",
    "import warnings\n",
    "warnings.filterwarnings('ignore')"
   ]
  },
  {
   "cell_type": "code",
   "execution_count": 40,
   "id": "25971042",
   "metadata": {},
   "outputs": [
    {
     "data": {
      "text/html": [
       "<div>\n",
       "<style scoped>\n",
       "    .dataframe tbody tr th:only-of-type {\n",
       "        vertical-align: middle;\n",
       "    }\n",
       "\n",
       "    .dataframe tbody tr th {\n",
       "        vertical-align: top;\n",
       "    }\n",
       "\n",
       "    .dataframe thead th {\n",
       "        text-align: right;\n",
       "    }\n",
       "</style>\n",
       "<table border=\"1\" class=\"dataframe\">\n",
       "  <thead>\n",
       "    <tr style=\"text-align: right;\">\n",
       "      <th></th>\n",
       "      <th>StudentID</th>\n",
       "      <th>Student</th>\n",
       "      <th>Income</th>\n",
       "      <th>Balance</th>\n",
       "      <th>IsStudent</th>\n",
       "    </tr>\n",
       "  </thead>\n",
       "  <tbody>\n",
       "    <tr>\n",
       "      <th>0</th>\n",
       "      <td>101</td>\n",
       "      <td>Alice</td>\n",
       "      <td>30000</td>\n",
       "      <td>1200.50</td>\n",
       "      <td>True</td>\n",
       "    </tr>\n",
       "    <tr>\n",
       "      <th>1</th>\n",
       "      <td>102</td>\n",
       "      <td>Bob</td>\n",
       "      <td>45000</td>\n",
       "      <td>850.75</td>\n",
       "      <td>True</td>\n",
       "    </tr>\n",
       "    <tr>\n",
       "      <th>2</th>\n",
       "      <td>103</td>\n",
       "      <td>Charlie</td>\n",
       "      <td>28000</td>\n",
       "      <td>1500.00</td>\n",
       "      <td>True</td>\n",
       "    </tr>\n",
       "    <tr>\n",
       "      <th>3</th>\n",
       "      <td>104</td>\n",
       "      <td>David</td>\n",
       "      <td>55000</td>\n",
       "      <td>600.20</td>\n",
       "      <td>True</td>\n",
       "    </tr>\n",
       "    <tr>\n",
       "      <th>4</th>\n",
       "      <td>105</td>\n",
       "      <td>Eve</td>\n",
       "      <td>32000</td>\n",
       "      <td>1150.00</td>\n",
       "      <td>No</td>\n",
       "    </tr>\n",
       "  </tbody>\n",
       "</table>\n",
       "</div>"
      ],
      "text/plain": [
       "   StudentID  Student  Income  Balance IsStudent\n",
       "0        101    Alice   30000  1200.50      True\n",
       "1        102      Bob   45000   850.75      True\n",
       "2        103  Charlie   28000  1500.00      True\n",
       "3        104    David   55000   600.20      True\n",
       "4        105      Eve   32000  1150.00        No"
      ]
     },
     "execution_count": 40,
     "metadata": {},
     "output_type": "execute_result"
    }
   ],
   "source": [
    "Default = pd.read_csv('student_data.csv')\n",
    "Default.head()"
   ]
  },
  {
   "cell_type": "code",
   "execution_count": 41,
   "id": "03c3318d",
   "metadata": {},
   "outputs": [
    {
     "data": {
      "text/plain": [
       "(10, 5)"
      ]
     },
     "execution_count": 41,
     "metadata": {},
     "output_type": "execute_result"
    }
   ],
   "source": [
    "Default.shape  # count no. of rows and columns"
   ]
  },
  {
   "cell_type": "code",
   "execution_count": 42,
   "id": "8946a5d4",
   "metadata": {},
   "outputs": [
    {
     "data": {
      "text/html": [
       "<div>\n",
       "<style scoped>\n",
       "    .dataframe tbody tr th:only-of-type {\n",
       "        vertical-align: middle;\n",
       "    }\n",
       "\n",
       "    .dataframe tbody tr th {\n",
       "        vertical-align: top;\n",
       "    }\n",
       "\n",
       "    .dataframe thead th {\n",
       "        text-align: right;\n",
       "    }\n",
       "</style>\n",
       "<table border=\"1\" class=\"dataframe\">\n",
       "  <thead>\n",
       "    <tr style=\"text-align: right;\">\n",
       "      <th></th>\n",
       "      <th>StudentID</th>\n",
       "      <th>Income</th>\n",
       "      <th>Balance</th>\n",
       "    </tr>\n",
       "  </thead>\n",
       "  <tbody>\n",
       "    <tr>\n",
       "      <th>count</th>\n",
       "      <td>10.00000</td>\n",
       "      <td>10.000000</td>\n",
       "      <td>10.000000</td>\n",
       "    </tr>\n",
       "    <tr>\n",
       "      <th>mean</th>\n",
       "      <td>105.50000</td>\n",
       "      <td>40500.000000</td>\n",
       "      <td>995.285000</td>\n",
       "    </tr>\n",
       "    <tr>\n",
       "      <th>std</th>\n",
       "      <td>3.02765</td>\n",
       "      <td>12195.172087</td>\n",
       "      <td>366.815818</td>\n",
       "    </tr>\n",
       "    <tr>\n",
       "      <th>min</th>\n",
       "      <td>101.00000</td>\n",
       "      <td>25000.000000</td>\n",
       "      <td>550.900000</td>\n",
       "    </tr>\n",
       "    <tr>\n",
       "      <th>25%</th>\n",
       "      <td>103.25000</td>\n",
       "      <td>30500.000000</td>\n",
       "      <td>712.875000</td>\n",
       "    </tr>\n",
       "    <tr>\n",
       "      <th>50%</th>\n",
       "      <td>105.50000</td>\n",
       "      <td>39000.000000</td>\n",
       "      <td>950.375000</td>\n",
       "    </tr>\n",
       "    <tr>\n",
       "      <th>75%</th>\n",
       "      <td>107.75000</td>\n",
       "      <td>50250.000000</td>\n",
       "      <td>1187.875000</td>\n",
       "    </tr>\n",
       "    <tr>\n",
       "      <th>max</th>\n",
       "      <td>110.00000</td>\n",
       "      <td>58000.000000</td>\n",
       "      <td>1600.000000</td>\n",
       "    </tr>\n",
       "  </tbody>\n",
       "</table>\n",
       "</div>"
      ],
      "text/plain": [
       "       StudentID        Income      Balance\n",
       "count   10.00000     10.000000    10.000000\n",
       "mean   105.50000  40500.000000   995.285000\n",
       "std      3.02765  12195.172087   366.815818\n",
       "min    101.00000  25000.000000   550.900000\n",
       "25%    103.25000  30500.000000   712.875000\n",
       "50%    105.50000  39000.000000   950.375000\n",
       "75%    107.75000  50250.000000  1187.875000\n",
       "max    110.00000  58000.000000  1600.000000"
      ]
     },
     "execution_count": 42,
     "metadata": {},
     "output_type": "execute_result"
    }
   ],
   "source": [
    "Default.describe()  # statistical summary of the dataset"
   ]
  },
  {
   "cell_type": "code",
   "execution_count": 49,
   "id": "0415e0d1",
   "metadata": {},
   "outputs": [
    {
     "data": {
      "image/png": "[encoded data removed]",
      "text/plain": [
       "<Figure size 1500x600 with 2 Axes>"
      ]
     },
     "metadata": {},
     "output_type": "display_data"
    }
   ],
   "source": [
    "# boxplot give us the summary of the data distribution \n",
    "\n",
    "plt.figure(figsize=(15,6)) # figure size 8x6     \n",
    "plt.subplot(1,2,1) # 1 row 2 columns, first plot\n",
    "sns.boxplot(y=Default['Income'])\n",
    "\n",
    "plt.subplot(1,2,2) # 1 row 2 columns, second plot\n",
    "sns.boxplot(y=Default['Balance'])\n",
    "plt.show()\n",
    "\n",
    "# in this fig we can see that there are some outliers in the income and balance column\n",
    "# the difference between 75% and 25%tile is called interquartile range(IQR)\n",
    "# we can see minimum and maximum values in the boxplot"
   ]
  },
  {
   "cell_type": "code",
   "execution_count": 48,
   "id": "e87c0af6",
   "metadata": {},
   "outputs": [
    {
     "data": {
      "image/png": "[encoded data removed]",
      "text/plain": [
       "<Figure size 1500x600 with 2 Axes>"
      ]
     },
     "metadata": {},
     "output_type": "display_data"
    }
   ],
   "source": [
    "#countplot is used to show the counts of observations in each categorical bin using bars.\n",
    "# kitne student hai aur kitne non student hai \n",
    "\n",
    "plt.figure(figsize=(15,6)) # figure size 8x6     \n",
    "plt.subplot(1,2,1) # 1 row 2 columns, first plot\n",
    "sns.countplot(Default['Student'])\n",
    "\n",
    "plt.subplot(1,2,2) # 1 row 2 columns, second plot\n",
    "sns.countplot(Default['StudentID'])\n",
    "plt.show()"
   ]
  },
  {
   "cell_type": "code",
   "execution_count": 50,
   "id": "2f81751a",
   "metadata": {},
   "outputs": [
    {
     "data": {
      "text/plain": [
       "Student\n",
       "Alice      1\n",
       "Bob        1\n",
       "Charlie    1\n",
       "David      1\n",
       "Eve        1\n",
       "Frank      1\n",
       "Grace      1\n",
       "Heidi      1\n",
       "Ivan       1\n",
       "Judy       1\n",
       "Name: count, dtype: int64"
      ]
     },
     "execution_count": 50,
     "metadata": {},
     "output_type": "execute_result"
    }
   ],
   "source": [
    "Default['Student'].value_counts()  # count how many students and non students are there"
   ]
  },
  {
   "cell_type": "code",
   "execution_count": 51,
   "id": "7d13aba4",
   "metadata": {},
   "outputs": [
    {
     "data": {
      "text/plain": [
       "IsStudent\n",
       "True    8\n",
       "No      2\n",
       "Name: count, dtype: int64"
      ]
     },
     "execution_count": 51,
     "metadata": {},
     "output_type": "execute_result"
    }
   ],
   "source": [
    "Default['IsStudent'].value_counts()  # count how many students and non students are there"
   ]
  },
  {
   "cell_type": "code",
   "execution_count": 52,
   "id": "8b4f2925",
   "metadata": {},
   "outputs": [
    {
     "data": {
      "text/plain": [
       "Student\n",
       "Alice      0.1\n",
       "Bob        0.1\n",
       "Charlie    0.1\n",
       "David      0.1\n",
       "Eve        0.1\n",
       "Frank      0.1\n",
       "Grace      0.1\n",
       "Heidi      0.1\n",
       "Ivan       0.1\n",
       "Judy       0.1\n",
       "Name: proportion, dtype: float64"
      ]
     },
     "execution_count": 52,
     "metadata": {},
     "output_type": "execute_result"
    }
   ],
   "source": [
    "Default['Student'].value_counts(normalize=True)  # percentage of students and non students"
   ]
  },
  {
   "cell_type": "code",
   "execution_count": 53,
   "id": "dc655d20",
   "metadata": {},
   "outputs": [
    {
     "ename": "TypeError",
     "evalue": "boxplot() takes from 0 to 1 positional arguments but 2 were given",
     "output_type": "error",
     "traceback": [
      "\u001b[31m---------------------------------------------------------------------------\u001b[39m",
      "\u001b[31mTypeError\u001b[39m                                 Traceback (most recent call last)",
      "\u001b[36mCell\u001b[39m\u001b[36m \u001b[39m\u001b[32mIn[53]\u001b[39m\u001b[32m, line 5\u001b[39m\n\u001b[32m      3\u001b[39m plt.figure(figsize=(\u001b[32m15\u001b[39m,\u001b[32m6\u001b[39m)) \u001b[38;5;66;03m# figure size 8x6     \u001b[39;00m\n\u001b[32m      4\u001b[39m plt.subplot(\u001b[32m1\u001b[39m,\u001b[32m2\u001b[39m,\u001b[32m1\u001b[39m) \u001b[38;5;66;03m# 1 row 2 columns, first plot\u001b[39;00m\n\u001b[32m----> \u001b[39m\u001b[32m5\u001b[39m \u001b[43msns\u001b[49m\u001b[43m.\u001b[49m\u001b[43mboxplot\u001b[49m\u001b[43m(\u001b[49m\u001b[43m \u001b[49m\u001b[43mDefault\u001b[49m\u001b[43m[\u001b[49m\u001b[33;43m'\u001b[39;49m\u001b[33;43mIsStudent\u001b[39;49m\u001b[33;43m'\u001b[39;49m\u001b[43m]\u001b[49m\u001b[43m \u001b[49m\u001b[43m,\u001b[49m\u001b[43m \u001b[49m\u001b[43mDefault\u001b[49m\u001b[43m[\u001b[49m\u001b[33;43m'\u001b[39;49m\u001b[33;43mIncome\u001b[39;49m\u001b[33;43m'\u001b[39;49m\u001b[43m]\u001b[49m\u001b[43m \u001b[49m\u001b[43m)\u001b[49m\n\u001b[32m      7\u001b[39m plt.subplot(\u001b[32m1\u001b[39m,\u001b[32m2\u001b[39m,\u001b[32m2\u001b[39m) \u001b[38;5;66;03m# 1 row 2 columns, second plot\u001b[39;00m\n\u001b[32m      8\u001b[39m sns.boxplot( Default[\u001b[33m'\u001b[39m\u001b[33mIsStudent\u001b[39m\u001b[33m'\u001b[39m] , Default[\u001b[33m'\u001b[39m\u001b[33mBalance\u001b[39m\u001b[33m'\u001b[39m])\n",
      "\u001b[31mTypeError\u001b[39m: boxplot() takes from 0 to 1 positional arguments but 2 were given"
     ]
    },
    {
     "data": {
      "image/png": "[encoded data removed]",
      "text/plain": [
       "<Figure size 1500x600 with 1 Axes>"
      ]
     },
     "metadata": {},
     "output_type": "display_data"
    }
   ],
   "source": [
    "# bivariate analysis\n",
    "\n",
    "plt.figure(figsize=(15,6)) # figure size 8x6     \n",
    "plt.subplot(1,2,1) # 1 row 2 columns, first plot\n",
    "sns.boxplot( Default['IsStudent'] , Default['Income'] )\n",
    "\n",
    "plt.subplot(1,2,2) # 1 row 2 columns, second plot\n",
    "sns.boxplot( Default['IsStudent'] , Default['Balance'])\n",
    "plt.show()"
   ]
  },
  {
   "cell_type": "code",
   "execution_count": 54,
   "id": "17f490cf",
   "metadata": {},
   "outputs": [
    {
     "data": {
      "text/html": [
       "<div>\n",
       "<style scoped>\n",
       "    .dataframe tbody tr th:only-of-type {\n",
       "        vertical-align: middle;\n",
       "    }\n",
       "\n",
       "    .dataframe tbody tr th {\n",
       "        vertical-align: top;\n",
       "    }\n",
       "\n",
       "    .dataframe thead th {\n",
       "        text-align: right;\n",
       "    }\n",
       "</style>\n",
       "<table border=\"1\" class=\"dataframe\">\n",
       "  <thead>\n",
       "    <tr style=\"text-align: right;\">\n",
       "      <th>StudentID</th>\n",
       "      <th>101</th>\n",
       "      <th>102</th>\n",
       "      <th>103</th>\n",
       "      <th>104</th>\n",
       "      <th>105</th>\n",
       "      <th>106</th>\n",
       "      <th>107</th>\n",
       "      <th>108</th>\n",
       "      <th>109</th>\n",
       "      <th>110</th>\n",
       "    </tr>\n",
       "    <tr>\n",
       "      <th>IsStudent</th>\n",
       "      <th></th>\n",
       "      <th></th>\n",
       "      <th></th>\n",
       "      <th></th>\n",
       "      <th></th>\n",
       "      <th></th>\n",
       "      <th></th>\n",
       "      <th></th>\n",
       "      <th></th>\n",
       "      <th></th>\n",
       "    </tr>\n",
       "  </thead>\n",
       "  <tbody>\n",
       "    <tr>\n",
       "      <th>No</th>\n",
       "      <td>0.0</td>\n",
       "      <td>0.0</td>\n",
       "      <td>0.0</td>\n",
       "      <td>0.0</td>\n",
       "      <td>0.1</td>\n",
       "      <td>0.0</td>\n",
       "      <td>0.0</td>\n",
       "      <td>0.0</td>\n",
       "      <td>0.0</td>\n",
       "      <td>0.1</td>\n",
       "    </tr>\n",
       "    <tr>\n",
       "      <th>True</th>\n",
       "      <td>0.1</td>\n",
       "      <td>0.1</td>\n",
       "      <td>0.1</td>\n",
       "      <td>0.1</td>\n",
       "      <td>0.0</td>\n",
       "      <td>0.1</td>\n",
       "      <td>0.1</td>\n",
       "      <td>0.1</td>\n",
       "      <td>0.1</td>\n",
       "      <td>0.0</td>\n",
       "    </tr>\n",
       "  </tbody>\n",
       "</table>\n",
       "</div>"
      ],
      "text/plain": [
       "StudentID  101  102  103  104  105  106  107  108  109  110\n",
       "IsStudent                                                  \n",
       "No         0.0  0.0  0.0  0.0  0.1  0.0  0.0  0.0  0.0  0.1\n",
       "True       0.1  0.1  0.1  0.1  0.0  0.1  0.1  0.1  0.1  0.0"
      ]
     },
     "execution_count": 54,
     "metadata": {},
     "output_type": "execute_result"
    }
   ],
   "source": [
    "pd.crosstab(Default['IsStudent'], Default['StudentID'], normalize=True).round(2) # cross tabulation is a table that displays the frequency distribution of variables."
   ]
  },
  {
   "cell_type": "code",
   "execution_count": null,
   "id": "c9e64d5c",
   "metadata": {},
   "outputs": [
    {
     "data": {
      "image/png": "[encoded data removed]",
      "text/plain": [
       "<Figure size 640x480 with 2 Axes>"
      ]
     },
     "metadata": {},
     "output_type": "display_data"
    }
   ],
   "source": [
    "# heatmap is used to visualize the correlation matrix\n",
    "sns.heatmap(Default[['Income','Balance']].corr(), annot=True)\n",
    "plt.show()\n",
    "# not more diffence between income and balance"
   ]
  },
  {
   "cell_type": "code",
   "execution_count": 56,
   "id": "3070527f",
   "metadata": {},
   "outputs": [
    {
     "data": {
      "text/plain": [
       "StudentID    0\n",
       "Student      0\n",
       "Income       0\n",
       "Balance      0\n",
       "IsStudent    0\n",
       "dtype: int64"
      ]
     },
     "execution_count": 56,
     "metadata": {},
     "output_type": "execute_result"
    }
   ],
   "source": [
    "Default.isnull().sum()  # check for missing values"
   ]
  },
  {
   "cell_type": "code",
   "execution_count": 57,
   "id": "cd899113",
   "metadata": {},
   "outputs": [],
   "source": [
    "# whenever we build a model we have to remove the outliers\n",
    "# we will remove the outliers using IQR method (by taking max and min values)\n",
    "# IQR = Q3 - Q1 (75% - 25%tile)\n",
    "# max = Q3 + 1.5*IQR"
   ]
  },
  {
   "cell_type": "code",
   "execution_count": 58,
   "id": "25fac9bd",
   "metadata": {},
   "outputs": [],
   "source": [
    "Q1 , Q3 = Default['Income'].quantile([0.25,0.75])\n",
    "IQR = Q3 - Q1\n",
    "max = Q3 + 1.5*IQR # max or UL(upper limit)\n",
    "min = Q1 - 1.5*IQR # min or LL(lower limit)"
   ]
  },
  {
   "cell_type": "code",
   "execution_count": 59,
   "id": "b975d060",
   "metadata": {},
   "outputs": [
    {
     "data": {
      "text/plain": [
       "79875.0"
      ]
     },
     "execution_count": 59,
     "metadata": {},
     "output_type": "execute_result"
    }
   ],
   "source": [
    "max"
   ]
  },
  {
   "cell_type": "code",
   "execution_count": 66,
   "id": "e7a30faa",
   "metadata": {},
   "outputs": [],
   "source": [
    "df= Default[Default['Balance']<max] # removing the outliers\n",
    "\n"
   ]
  },
  {
   "cell_type": "code",
   "execution_count": 67,
   "id": "1c7de4f0",
   "metadata": {},
   "outputs": [
    {
     "data": {
      "text/html": [
       "<div>\n",
       "<style scoped>\n",
       "    .dataframe tbody tr th:only-of-type {\n",
       "        vertical-align: middle;\n",
       "    }\n",
       "\n",
       "    .dataframe tbody tr th {\n",
       "        vertical-align: top;\n",
       "    }\n",
       "\n",
       "    .dataframe thead th {\n",
       "        text-align: right;\n",
       "    }\n",
       "</style>\n",
       "<table border=\"1\" class=\"dataframe\">\n",
       "  <thead>\n",
       "    <tr style=\"text-align: right;\">\n",
       "      <th></th>\n",
       "      <th>StudentID</th>\n",
       "      <th>Student</th>\n",
       "      <th>Income</th>\n",
       "      <th>Balance</th>\n",
       "      <th>IsStudent</th>\n",
       "    </tr>\n",
       "  </thead>\n",
       "  <tbody>\n",
       "    <tr>\n",
       "      <th>0</th>\n",
       "      <td>101</td>\n",
       "      <td>Alice</td>\n",
       "      <td>30000</td>\n",
       "      <td>1200.50</td>\n",
       "      <td>True</td>\n",
       "    </tr>\n",
       "    <tr>\n",
       "      <th>1</th>\n",
       "      <td>102</td>\n",
       "      <td>Bob</td>\n",
       "      <td>45000</td>\n",
       "      <td>850.75</td>\n",
       "      <td>True</td>\n",
       "    </tr>\n",
       "    <tr>\n",
       "      <th>2</th>\n",
       "      <td>103</td>\n",
       "      <td>Charlie</td>\n",
       "      <td>28000</td>\n",
       "      <td>1500.00</td>\n",
       "      <td>True</td>\n",
       "    </tr>\n",
       "    <tr>\n",
       "      <th>3</th>\n",
       "      <td>104</td>\n",
       "      <td>David</td>\n",
       "      <td>55000</td>\n",
       "      <td>600.20</td>\n",
       "      <td>True</td>\n",
       "    </tr>\n",
       "    <tr>\n",
       "      <th>4</th>\n",
       "      <td>105</td>\n",
       "      <td>Eve</td>\n",
       "      <td>32000</td>\n",
       "      <td>1150.00</td>\n",
       "      <td>No</td>\n",
       "    </tr>\n",
       "    <tr>\n",
       "      <th>5</th>\n",
       "      <td>106</td>\n",
       "      <td>Frank</td>\n",
       "      <td>48000</td>\n",
       "      <td>700.50</td>\n",
       "      <td>True</td>\n",
       "    </tr>\n",
       "    <tr>\n",
       "      <th>6</th>\n",
       "      <td>107</td>\n",
       "      <td>Grace</td>\n",
       "      <td>25000</td>\n",
       "      <td>1600.00</td>\n",
       "      <td>True</td>\n",
       "    </tr>\n",
       "    <tr>\n",
       "      <th>7</th>\n",
       "      <td>108</td>\n",
       "      <td>Heidi</td>\n",
       "      <td>58000</td>\n",
       "      <td>550.90</td>\n",
       "      <td>True</td>\n",
       "    </tr>\n",
       "    <tr>\n",
       "      <th>8</th>\n",
       "      <td>109</td>\n",
       "      <td>Ivan</td>\n",
       "      <td>33000</td>\n",
       "      <td>1050.00</td>\n",
       "      <td>True</td>\n",
       "    </tr>\n",
       "    <tr>\n",
       "      <th>9</th>\n",
       "      <td>110</td>\n",
       "      <td>Judy</td>\n",
       "      <td>51000</td>\n",
       "      <td>750.00</td>\n",
       "      <td>No</td>\n",
       "    </tr>\n",
       "  </tbody>\n",
       "</table>\n",
       "</div>"
      ],
      "text/plain": [
       "   StudentID  Student  Income  Balance IsStudent\n",
       "0        101    Alice   30000  1200.50      True\n",
       "1        102      Bob   45000   850.75      True\n",
       "2        103  Charlie   28000  1500.00      True\n",
       "3        104    David   55000   600.20      True\n",
       "4        105      Eve   32000  1150.00        No\n",
       "5        106    Frank   48000   700.50      True\n",
       "6        107    Grace   25000  1600.00      True\n",
       "7        108    Heidi   58000   550.90      True\n",
       "8        109     Ivan   33000  1050.00      True\n",
       "9        110     Judy   51000   750.00        No"
      ]
     },
     "execution_count": 67,
     "metadata": {},
     "output_type": "execute_result"
    }
   ],
   "source": [
    "df"
   ]
  },
  {
   "cell_type": "code",
   "execution_count": 68,
   "id": "29f88c30",
   "metadata": {},
   "outputs": [],
   "source": [
    "Default['Balance'] =np.where(Default['Balance']>max, max, Default['Balance']) # replacing the outliers with max value"
   ]
  },
  {
   "cell_type": "code",
   "execution_count": 69,
   "id": "c7f13767",
   "metadata": {},
   "outputs": [
    {
     "data": {
      "image/png": "[encoded data removed]",
      "text/plain": [
       "<Figure size 640x480 with 1 Axes>"
      ]
     },
     "metadata": {},
     "output_type": "display_data"
    }
   ],
   "source": [
    "sns.boxplot(y=Default['Balance'])\n",
    "plt.show()"
   ]
  },
  {
   "cell_type": "code",
   "execution_count": 70,
   "id": "076e27d8",
   "metadata": {},
   "outputs": [],
   "source": [
    "Default = pd.get_dummies(Default, drop_first=True)\n",
    "# converting categorical variable into dummy/indicator variables\n",
    "#it is very useful for machine learning algorithms which can only take numerical input."
   ]
  },
  {
   "cell_type": "code",
   "execution_count": 71,
   "id": "5a159f31",
   "metadata": {},
   "outputs": [
    {
     "data": {
      "text/html": [
       "<div>\n",
       "<style scoped>\n",
       "    .dataframe tbody tr th:only-of-type {\n",
       "        vertical-align: middle;\n",
       "    }\n",
       "\n",
       "    .dataframe tbody tr th {\n",
       "        vertical-align: top;\n",
       "    }\n",
       "\n",
       "    .dataframe thead th {\n",
       "        text-align: right;\n",
       "    }\n",
       "</style>\n",
       "<table border=\"1\" class=\"dataframe\">\n",
       "  <thead>\n",
       "    <tr style=\"text-align: right;\">\n",
       "      <th></th>\n",
       "      <th>StudentID</th>\n",
       "      <th>Income</th>\n",
       "      <th>Balance</th>\n",
       "      <th>Student_Bob</th>\n",
       "      <th>Student_Charlie</th>\n",
       "      <th>Student_David</th>\n",
       "      <th>Student_Eve</th>\n",
       "      <th>Student_Frank</th>\n",
       "      <th>Student_Grace</th>\n",
       "      <th>Student_Heidi</th>\n",
       "      <th>Student_Ivan</th>\n",
       "      <th>Student_Judy</th>\n",
       "      <th>IsStudent_True</th>\n",
       "    </tr>\n",
       "  </thead>\n",
       "  <tbody>\n",
       "    <tr>\n",
       "      <th>0</th>\n",
       "      <td>101</td>\n",
       "      <td>30000</td>\n",
       "      <td>1200.50</td>\n",
       "      <td>False</td>\n",
       "      <td>False</td>\n",
       "      <td>False</td>\n",
       "      <td>False</td>\n",
       "      <td>False</td>\n",
       "      <td>False</td>\n",
       "      <td>False</td>\n",
       "      <td>False</td>\n",
       "      <td>False</td>\n",
       "      <td>True</td>\n",
       "    </tr>\n",
       "    <tr>\n",
       "      <th>1</th>\n",
       "      <td>102</td>\n",
       "      <td>45000</td>\n",
       "      <td>850.75</td>\n",
       "      <td>True</td>\n",
       "      <td>False</td>\n",
       "      <td>False</td>\n",
       "      <td>False</td>\n",
       "      <td>False</td>\n",
       "      <td>False</td>\n",
       "      <td>False</td>\n",
       "      <td>False</td>\n",
       "      <td>False</td>\n",
       "      <td>True</td>\n",
       "    </tr>\n",
       "    <tr>\n",
       "      <th>2</th>\n",
       "      <td>103</td>\n",
       "      <td>28000</td>\n",
       "      <td>1500.00</td>\n",
       "      <td>False</td>\n",
       "      <td>True</td>\n",
       "      <td>False</td>\n",
       "      <td>False</td>\n",
       "      <td>False</td>\n",
       "      <td>False</td>\n",
       "      <td>False</td>\n",
       "      <td>False</td>\n",
       "      <td>False</td>\n",
       "      <td>True</td>\n",
       "    </tr>\n",
       "    <tr>\n",
       "      <th>3</th>\n",
       "      <td>104</td>\n",
       "      <td>55000</td>\n",
       "      <td>600.20</td>\n",
       "      <td>False</td>\n",
       "      <td>False</td>\n",
       "      <td>True</td>\n",
       "      <td>False</td>\n",
       "      <td>False</td>\n",
       "      <td>False</td>\n",
       "      <td>False</td>\n",
       "      <td>False</td>\n",
       "      <td>False</td>\n",
       "      <td>True</td>\n",
       "    </tr>\n",
       "    <tr>\n",
       "      <th>4</th>\n",
       "      <td>105</td>\n",
       "      <td>32000</td>\n",
       "      <td>1150.00</td>\n",
       "      <td>False</td>\n",
       "      <td>False</td>\n",
       "      <td>False</td>\n",
       "      <td>True</td>\n",
       "      <td>False</td>\n",
       "      <td>False</td>\n",
       "      <td>False</td>\n",
       "      <td>False</td>\n",
       "      <td>False</td>\n",
       "      <td>False</td>\n",
       "    </tr>\n",
       "  </tbody>\n",
       "</table>\n",
       "</div>"
      ],
      "text/plain": [
       "   StudentID  Income  Balance  Student_Bob  Student_Charlie  Student_David  \\\n",
       "0        101   30000  1200.50        False            False          False   \n",
       "1        102   45000   850.75         True            False          False   \n",
       "2        103   28000  1500.00        False             True          False   \n",
       "3        104   55000   600.20        False            False           True   \n",
       "4        105   32000  1150.00        False            False          False   \n",
       "\n",
       "   Student_Eve  Student_Frank  Student_Grace  Student_Heidi  Student_Ivan  \\\n",
       "0        False          False          False          False         False   \n",
       "1        False          False          False          False         False   \n",
       "2        False          False          False          False         False   \n",
       "3        False          False          False          False         False   \n",
       "4         True          False          False          False         False   \n",
       "\n",
       "   Student_Judy  IsStudent_True  \n",
       "0         False            True  \n",
       "1         False            True  \n",
       "2         False            True  \n",
       "3         False            True  \n",
       "4         False           False  "
      ]
     },
     "execution_count": 71,
     "metadata": {},
     "output_type": "execute_result"
    }
   ],
   "source": [
    "Default.head()"
   ]
  },
  {
   "cell_type": "code",
   "execution_count": 76,
   "id": "315a77da",
   "metadata": {},
   "outputs": [],
   "source": [
    "#Default.columns = ['StudentID', 'Balance', 'Income', 'Student_Yes', 'IsStudent']"
   ]
  },
  {
   "cell_type": "code",
   "execution_count": 77,
   "id": "cdbb4825",
   "metadata": {},
   "outputs": [],
   "source": [
    "# we apply logistic regression because our target variable is binary (0 and 1)\n",
    "from sklearn.model_selection import train_test_split"
   ]
  },
  {
   "cell_type": "code",
   "execution_count": 80,
   "id": "959b541f",
   "metadata": {},
   "outputs": [],
   "source": [
    "# x = Default.drop('Student', axis=1) # dependent variables\n",
    "# y = Default['Student'] # target variable"
   ]
  },
  {
   "cell_type": "code",
   "execution_count": null,
   "id": "83eefd42",
   "metadata": {},
   "outputs": [
    {
     "ename": "NameError",
     "evalue": "name 'x' is not defined",
     "output_type": "error",
     "traceback": [
      "\u001b[31m---------------------------------------------------------------------------\u001b[39m",
      "\u001b[31mNameError\u001b[39m                                 Traceback (most recent call last)",
      "\u001b[36mCell\u001b[39m\u001b[36m \u001b[39m\u001b[32mIn[81]\u001b[39m\u001b[32m, line 1\u001b[39m\n\u001b[32m----> \u001b[39m\u001b[32m1\u001b[39m x_train, x_test, y_train, y_test = train_test_split(\u001b[43mx\u001b[49m, y, test_size=\u001b[32m0.3\u001b[39m, random_state=\u001b[32m42\u001b[39m) \u001b[38;5;66;03m# 70% training and 30% test\u001b[39;00m\n",
      "\u001b[31mNameError\u001b[39m: name 'x' is not defined"
     ]
    }
   ],
   "source": [
    "# x_train, x_test, y_train, y_test = train_test_split(x, y, test_size=0.3, random_state=42 , startify=y) \n",
    "# # 70% training and 30% test\n",
    "#use stratify=y to ensure that the proportion of classes is maintained in both the training and testing sets."
   ]
  },
  {
   "cell_type": "code",
   "execution_count": 83,
   "id": "5164e6a8",
   "metadata": {},
   "outputs": [],
   "source": [
    "# print(x_train.shape)\n",
    "# print(x_test.shape)"
   ]
  },
  {
   "cell_type": "code",
   "execution_count": 84,
   "id": "f85e83d8",
   "metadata": {},
   "outputs": [],
   "source": [
    "# print(y_train.value_counts(normalize=True).round(2)) # percentage of students and non students in training set\n",
    "# print(y_test.value_counts(normalize=True).round(2)) # percentage of students and non"
   ]
  },
  {
   "cell_type": "code",
   "execution_count": null,
   "id": "2831b356",
   "metadata": {},
   "outputs": [],
   "source": [
    "# SMOTE (Synthetic Minority Over-sampling Technique) \n",
    "# iif categoriws is imbalanced we use this technique to balance the data\n",
    "#if we not use  sampling_strategy by default it take 0.5\n",
    "# 0.75= 3:4 ratio means 3 non students and 4 students\n",
    "# sm.fit_resample() is used to resample or over_sample so that the model can't be more imbalanced\n",
    "\n",
    "# from imblearn.over_sampling import SMOTE    \n",
    "# sm  = SMOTE(random_state=42 , sampling_strategy=0.75)\n",
    "# X_res, y_res = sm.fit_resample(x_train, y_train) # resampled data"
   ]
  },
  {
   "cell_type": "code",
   "execution_count": 86,
   "id": "80d387db",
   "metadata": {},
   "outputs": [],
   "source": [
    "from sklearn.linear_model import LogisticRegression"
   ]
  },
  {
   "cell_type": "code",
   "execution_count": null,
   "id": "dce86228",
   "metadata": {},
   "outputs": [],
   "source": [
    "# lr = LogisticRegression()\n",
    "# lr.fit(x_res, y_res) # lr sample ko fit kr rahe hai training data pe "
   ]
  },
  {
   "cell_type": "code",
   "execution_count": null,
   "id": "76540921",
   "metadata": {},
   "outputs": [],
   "source": [
    "# y_pred = lr.predict(x_test) # predict kr rahe hai test data pe"
   ]
  },
  {
   "cell_type": "code",
   "execution_count": null,
   "id": "20c3bec6",
   "metadata": {},
   "outputs": [],
   "source": [
    "# confusion_matrix() => pass actual and predicted values\n",
    "\n",
    "# from sklearn.linear_model import confusion_matrix, classification_report"
   ]
  },
  {
   "cell_type": "code",
   "execution_count": 92,
   "id": "e329cb38",
   "metadata": {},
   "outputs": [],
   "source": [
    "# confusion_matrix(y_test, y_pred) # left diagonal is correct prediction and right diagonal is incorrect prediction"
   ]
  },
  {
   "cell_type": "code",
   "execution_count": null,
   "id": "1de1c0d8",
   "metadata": {},
   "outputs": [],
   "source": [
    "# (2589+75)/(2589+7) : to predict value.... accuracy check..."
   ]
  }
 ],
 "metadata": {
  "kernelspec": {
   "display_name": "venv (3.13.5)",
   "language": "python",
   "name": "python3"
  },
  "language_info": {
   "codemirror_mode": {
    "name": "ipython",
    "version": 3
   },
   "file_extension": ".py",
   "mimetype": "text/x-python",
   "name": "python",
   "nbconvert_exporter": "python",
   "pygments_lexer": "ipython3",
   "version": "3.13.5"
  }
 },
 "nbformat": 4,
 "nbformat_minor": 5
}
