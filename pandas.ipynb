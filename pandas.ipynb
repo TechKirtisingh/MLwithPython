{
 "cells": [
  {
   "cell_type": "code",
   "execution_count": 1,
   "id": "8f19eeae",
   "metadata": {},
   "outputs": [],
   "source": [
    "import pandas as pd\n",
    "import numpy as np\n"
   ]
  },
  {
   "cell_type": "code",
   "execution_count": null,
   "id": "85088116",
   "metadata": {},
   "outputs": [
    {
     "data": {
      "text/html": [
       "<div>\n",
       "<style scoped>\n",
       "    .dataframe tbody tr th:only-of-type {\n",
       "        vertical-align: middle;\n",
       "    }\n",
       "\n",
       "    .dataframe tbody tr th {\n",
       "        vertical-align: top;\n",
       "    }\n",
       "\n",
       "    .dataframe thead th {\n",
       "        text-align: right;\n",
       "    }\n",
       "</style>\n",
       "<table border=\"1\" class=\"dataframe\">\n",
       "  <thead>\n",
       "    <tr style=\"text-align: right;\">\n",
       "      <th></th>\n",
       "      <th>Column1</th>\n",
       "      <th>Column2</th>\n",
       "      <th>Column3</th>\n",
       "      <th>Column4</th>\n",
       "    </tr>\n",
       "  </thead>\n",
       "  <tbody>\n",
       "    <tr>\n",
       "      <th>Row1</th>\n",
       "      <td>0</td>\n",
       "      <td>1</td>\n",
       "      <td>2</td>\n",
       "      <td>3</td>\n",
       "    </tr>\n",
       "    <tr>\n",
       "      <th>Row2</th>\n",
       "      <td>4</td>\n",
       "      <td>5</td>\n",
       "      <td>6</td>\n",
       "      <td>7</td>\n",
       "    </tr>\n",
       "    <tr>\n",
       "      <th>Row3</th>\n",
       "      <td>8</td>\n",
       "      <td>9</td>\n",
       "      <td>10</td>\n",
       "      <td>11</td>\n",
       "    </tr>\n",
       "    <tr>\n",
       "      <th>Row4</th>\n",
       "      <td>12</td>\n",
       "      <td>13</td>\n",
       "      <td>14</td>\n",
       "      <td>15</td>\n",
       "    </tr>\n",
       "    <tr>\n",
       "      <th>Row5</th>\n",
       "      <td>16</td>\n",
       "      <td>17</td>\n",
       "      <td>18</td>\n",
       "      <td>19</td>\n",
       "    </tr>\n",
       "  </tbody>\n",
       "</table>\n",
       "</div>"
      ],
      "text/plain": [
       "      Column1  Column2  Column3  Column4\n",
       "Row1        0        1        2        3\n",
       "Row2        4        5        6        7\n",
       "Row3        8        9       10       11\n",
       "Row4       12       13       14       15\n",
       "Row5       16       17       18       19"
      ]
     },
     "execution_count": 2,
     "metadata": {},
     "output_type": "execute_result"
    }
   ],
   "source": [
    "df= pd.DataFrame(np.arange(0,20).reshape(5,4),index=['Row1','Row2','Row3','Row4','Row5'],columns=['Column1','Column2','Column3','Column4'])\n",
    "df.head()\n",
    "\n",
    "#df.to_csv('Test1.csv') # converting into excel sheet...\n"
   ]
  },
  {
   "cell_type": "code",
   "execution_count": 3,
   "id": "097b648b",
   "metadata": {},
   "outputs": [
    {
     "name": "stdout",
     "output_type": "stream",
     "text": [
      "Column1    0\n",
      "Column2    1\n",
      "Column3    2\n",
      "Column4    3\n",
      "Name: Row1, dtype: int64\n",
      "<class 'pandas.core.series.Series'>\n"
     ]
    }
   ],
   "source": [
    "## Accessing the element\n",
    "\n",
    "#1. .loc (focus on only row indexes)  2. .iloc (ocus on both rows and column indexes)\n",
    "print(df.loc['Row1']) # printing first row and Name: Row1, dtype: int64 \n",
    "print(type(df.loc['Row1'])) # type <class 'pandas.core.series.Series'>\n",
    "# dataframes is the combination of many column :at least it should greater than one column and row  :: type is printing series because series means only one rows..not whole table\n"
   ]
  },
  {
   "cell_type": "code",
   "execution_count": 4,
   "id": "7e3d3af8",
   "metadata": {},
   "outputs": [
    {
     "name": "stdout",
     "output_type": "stream",
     "text": [
      "      Column1  Column2  Column3  Column4\n",
      "Row1        0        1        2        3\n",
      "Row2        4        5        6        7\n",
      "Row3        8        9       10       11\n",
      "Row4       12       13       14       15\n",
      "Row5       16       17       18       19\n",
      "      Column1  Column2  Column3  Column4\n",
      "Row1        0        1        2        3\n",
      "Row2        4        5        6        7\n",
      "      Column1  Column2\n",
      "Row1        0        1\n",
      "Row2        4        5\n",
      "<class 'pandas.core.frame.DataFrame'>\n"
     ]
    }
   ],
   "source": [
    "print(df.iloc[:,:]) # print all rows\n",
    "print(df.iloc[0:2,:])\n",
    "print(df.iloc[0:2,0:2])\n",
    "print(type(df.iloc[3:,4:]))# type of iloc is: <class 'pandas.core.frame.DataFrame\n"
   ]
  },
  {
   "cell_type": "code",
   "execution_count": 5,
   "id": "98ffb7a7",
   "metadata": {},
   "outputs": [
    {
     "name": "stdout",
     "output_type": "stream",
     "text": [
      "[[ 1  2  3]\n",
      " [ 5  6  7]\n",
      " [ 9 10 11]\n",
      " [13 14 15]\n",
      " [17 18 19]]\n",
      "(5, 3)\n"
     ]
    }
   ],
   "source": [
    "# convert dataframes into array:---->\n",
    "\n",
    "print(df.iloc[:,1:].values) # give value in array formate...\n",
    "print(df.iloc[:,1:].values.shape) # shape of value is (5, 3)\n"
   ]
  },
  {
   "cell_type": "code",
   "execution_count": 6,
   "id": "1a4811df",
   "metadata": {},
   "outputs": [
    {
     "name": "stdout",
     "output_type": "stream",
     "text": [
      "<bound method DataFrame.sum of       Column1  Column2  Column3  Column4\n",
      "Row1    False    False    False    False\n",
      "Row2    False    False    False    False\n",
      "Row3    False    False    False    False\n",
      "Row4    False    False    False    False\n",
      "Row5    False    False    False    False>\n",
      "      Column1  Column2  Column3  Column4\n",
      "Row1        0        1        2        3\n",
      "Row2        4        5        6        7\n",
      "Row3        8        9       10       11\n",
      "Row4       12       13       14       15\n",
      "Row5       16       17       18       19\n",
      "Column1\n",
      "0     1\n",
      "4     1\n",
      "8     1\n",
      "12    1\n",
      "16    1\n",
      "Name: count, dtype: int64\n",
      "[ 0  4  8 12 16]\n"
     ]
    }
   ],
   "source": [
    "# checking null condition::\n",
    "\n",
    "print(df.isnull().sum) # in col1 have 0 null value,col2 have 0 null value as same at it....\n",
    "print(df)\n",
    "print(df['Column1'].value_counts()) # it give how many time a number is present..\n",
    "print(df['Column1'].unique()) # give the unique value of col1:: [ 0  4  8 12 16]\n"
   ]
  },
  {
   "cell_type": "code",
   "execution_count": 7,
   "id": "5ec4946e",
   "metadata": {},
   "outputs": [
    {
     "name": "stdout",
     "output_type": "stream",
     "text": [
      "Row1     2\n",
      "Row2     6\n",
      "Row3    10\n",
      "Row4    14\n",
      "Row5    18\n",
      "Name: Column3, dtype: int64\n",
      "      Column1  Column2\n",
      "Row1        0        1\n",
      "Row2        4        5\n",
      "Row3        8        9\n",
      "Row4       12       13\n",
      "Row5       16       17\n"
     ]
    }
   ],
   "source": [
    "# we directly call col without using loc\n",
    "\n",
    "print(df['Column3']) #Row1 2 , Row2 6 , Row3 10 , Row4 14 , Row5 18 Name: Column3, dtype: int64\n",
    "print(df[['Column1','Column2']]) # o/p of both the column.."
   ]
  },
  {
   "cell_type": "code",
   "execution_count": null,
   "id": "c29d5129",
   "metadata": {},
   "outputs": [],
   "source": []
  }
 ],
 "metadata": {
  "kernelspec": {
   "display_name": "venv (3.13.5)",
   "language": "python",
   "name": "python3"
  },
  "language_info": {
   "codemirror_mode": {
    "name": "ipython",
    "version": 3
   },
   "file_extension": ".py",
   "mimetype": "text/x-python",
   "name": "python",
   "nbconvert_exporter": "python",
   "pygments_lexer": "ipython3",
   "version": "3.13.5"
  }
 },
 "nbformat": 4,
 "nbformat_minor": 5
}
